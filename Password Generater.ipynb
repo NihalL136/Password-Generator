{
 "cells": [
  {
   "cell_type": "code",
   "execution_count": 1,
   "id": "d85af066",
   "metadata": {},
   "outputs": [
    {
     "name": "stdout",
     "output_type": "stream",
     "text": [
      "Enter the length of the password: 5\n",
      "Enter the number of passwords to generate: 6\n",
      "\n",
      "Generated Passwords:\n",
      "Password 1: k*1\"$\n",
      "Password 2: ptMzO\n",
      "Password 3: g2]^w\n",
      "Password 4: *e4Qt\n",
      "Password 5: gwO]B\n",
      "Password 6: _bn!e\n"
     ]
    }
   ],
   "source": [
    "import random\n",
    "import string\n",
    "\n",
    "def generate_random_password(length):\n",
    "    characters = string.ascii_letters + string.digits + string.punctuation\n",
    "    password = ''.join(random.choice(characters) for _ in range(length))\n",
    "    return password\n",
    "\n",
    "def generate_multiple_random_passwords(num_passwords, length):\n",
    "    passwords = [generate_random_password(length) for _ in range(num_passwords)]\n",
    "    return passwords\n",
    "\n",
    "if __name__ == '__main__':\n",
    "    try:\n",
    "        length = int(input(\"Enter the length of the password: \"))\n",
    "        num_passwords = int(input(\"Enter the number of passwords to generate: \"))\n",
    "\n",
    "        passwords = generate_multiple_random_passwords(num_passwords, length)\n",
    "\n",
    "        print(f\"\\nGenerated Passwords:\")\n",
    "        for idx, password in enumerate(passwords, start=1):\n",
    "            print(f\"Password {idx}: {password}\")\n",
    "    except ValueError:\n",
    "        print(\"Please enter valid integer values for length and number of passwords.\")\n"
   ]
  },
  {
   "cell_type": "code",
   "execution_count": null,
   "id": "af5c9b22",
   "metadata": {},
   "outputs": [],
   "source": []
  }
 ],
 "metadata": {
  "kernelspec": {
   "display_name": "Python 3 (ipykernel)",
   "language": "python",
   "name": "python3"
  },
  "language_info": {
   "codemirror_mode": {
    "name": "ipython",
    "version": 3
   },
   "file_extension": ".py",
   "mimetype": "text/x-python",
   "name": "python",
   "nbconvert_exporter": "python",
   "pygments_lexer": "ipython3",
   "version": "3.11.3"
  }
 },
 "nbformat": 4,
 "nbformat_minor": 5
}
